{
  "nbformat": 4,
  "nbformat_minor": 0,
  "metadata": {
    "colab": {
      "provenance": [],
      "authorship_tag": "ABX9TyOE49+rpOFTjoDBmWbhJPjW",
      "include_colab_link": true
    },
    "kernelspec": {
      "name": "python3",
      "display_name": "Python 3"
    },
    "language_info": {
      "name": "python"
    }
  },
  "cells": [
    {
      "cell_type": "markdown",
      "metadata": {
        "id": "view-in-github",
        "colab_type": "text"
      },
      "source": [
        "<a href=\"https://colab.research.google.com/github/JelanKhweileh/Data-Mining-Project-Health-Insurance/blob/main/DMPROJECT.ipynb\" target=\"_parent\"><img src=\"https://colab.research.google.com/assets/colab-badge.svg\" alt=\"Open In Colab\"/></a>"
      ]
    },
    {
      "cell_type": "code",
      "execution_count": 2,
      "metadata": {
        "colab": {
          "base_uri": "https://localhost:8080/"
        },
        "id": "JmXnY3QGNEF1",
        "outputId": "5198beb2-a5bd-4860-dbb9-084b4518053e"
      },
      "outputs": [
        {
          "output_type": "stream",
          "name": "stdout",
          "text": [
            "   id  Gender  Age  Driving_License  Region_Code  Previously_Insured  \\\n",
            "0   0       0   30                1         28.0                   1   \n",
            "1   1       0   26                1          6.0                   1   \n",
            "2   2       0   40                1          0.0                   0   \n",
            "3   3       0   25                1          8.0                   1   \n",
            "4   4       1   26                1         28.0                   1   \n",
            "\n",
            "   Vehicle_Age  Vehicle_Damage  Annual_Premium  Policy_Sales_Channel  Vintage  \\\n",
            "0            2               0         60954.0                 152.0      127   \n",
            "1            2               0         24532.0                 152.0      216   \n",
            "2            1               1          2630.0                  47.0      220   \n",
            "3            2               0         44259.0                 152.0      223   \n",
            "4            2               0         33615.0                 152.0      194   \n",
            "\n",
            "   Response  \n",
            "0         0  \n",
            "1         0  \n",
            "2         0  \n",
            "3         0  \n",
            "4         0  \n",
            "<class 'pandas.core.frame.DataFrame'>\n",
            "RangeIndex: 70000 entries, 0 to 69999\n",
            "Data columns (total 12 columns):\n",
            " #   Column                Non-Null Count  Dtype  \n",
            "---  ------                --------------  -----  \n",
            " 0   id                    70000 non-null  int64  \n",
            " 1   Gender                70000 non-null  int64  \n",
            " 2   Age                   70000 non-null  int64  \n",
            " 3   Driving_License       70000 non-null  int64  \n",
            " 4   Region_Code           70000 non-null  float64\n",
            " 5   Previously_Insured    70000 non-null  int64  \n",
            " 6   Vehicle_Age           70000 non-null  int64  \n",
            " 7   Vehicle_Damage        70000 non-null  int64  \n",
            " 8   Annual_Premium        70000 non-null  float64\n",
            " 9   Policy_Sales_Channel  70000 non-null  float64\n",
            " 10  Vintage               70000 non-null  int64  \n",
            " 11  Response              70000 non-null  int64  \n",
            "dtypes: float64(3), int64(9)\n",
            "memory usage: 6.4 MB\n",
            "None\n",
            "Best Parameters: {'colsample_bytree': 1.0, 'gamma': 0.1, 'learning_rate': 0.1, 'max_depth': 6, 'min_child_weight': 1, 'n_estimators': 200, 'subsample': 0.6}\n",
            "Accuracy on Validation Set: 0.8585401272797164\n",
            "Classification Report:\n",
            "              precision    recall  f1-score   support\n",
            "\n",
            "           0       0.94      0.77      0.84     11704\n",
            "           1       0.80      0.95      0.87     11709\n",
            "\n",
            "    accuracy                           0.86     23413\n",
            "   macro avg       0.87      0.86      0.86     23413\n",
            "weighted avg       0.87      0.86      0.86     23413\n",
            "\n",
            "Confusion Matrix:\n",
            "[[ 9001  2703]\n",
            " [  609 11100]]\n",
            "   id  Response\n",
            "0   0         1\n",
            "1   1         1\n",
            "2   2         0\n",
            "3   3         0\n",
            "4   4         0\n"
          ]
        }
      ],
      "source": [
        "import pandas as pd\n",
        "from sklearn.model_selection import train_test_split, RandomizedSearchCV\n",
        "from imblearn.over_sampling import RandomOverSampler\n",
        "import xgboost as xgb\n",
        "from sklearn.metrics import accuracy_score, classification_report, confusion_matrix\n",
        "from scipy.stats import randint\n",
        "\n",
        "train_data = pd.read_csv('train.csv')\n",
        "test_data = pd.read_csv('test.csv')\n",
        "print(train_data.head())\n",
        "print(train_data.info())\n",
        "oversampler = RandomOverSampler(random_state=42)\n",
        "X_ros, y_ros = oversampler.fit_resample(train_data.drop(['id', 'Response'], axis=1),\n",
        "                                                    train_data['Response'])\n",
        "\n",
        "X_train, X_vali, y_train, y_vali = train_test_split(X_ros, y_ros,\n",
        "                                                  test_size=0.2,\n",
        "                                                  random_state=42)\n",
        "param_dist = {\n",
        "\n",
        "   'learning_rate': [0.01, 0.05, 0.1],\n",
        "    'max_depth': randint(3, 7),\n",
        "    'min_child_weight': randint(1, 5),\n",
        "    'gamma': [0, 0.1, 0.2],\n",
        "    'subsample': [0.6, 0.8, 1.0],\n",
        "    'colsample_bytree': [0.6, 0.8, 1.0],\n",
        "    'n_estimators': [100, 200, 300]\n",
        "\n",
        "}\n",
        "\n",
        "model = xgb.XGBClassifier(random_state=42)\n",
        "random_search = RandomizedSearchCV(estimator=model, param_distributions=param_dist, n_iter=50,\n",
        "                                   cv=5, scoring='accuracy', random_state=42)\n",
        "random_search.fit(X_train, y_train)\n",
        "best_model = random_search.best_estimator_\n",
        "print(\"Best Parameters:\", random_search.best_params_)\n",
        "best_model.fit(X_train, y_train)\n",
        "vali_predictions = best_model.predict(X_vali)\n",
        "print(\"Accuracy on Validation Set:\", accuracy_score(y_vali, vali_predictions))\n",
        "print(\"Classification Report:\")\n",
        "print(classification_report(y_vali, vali_predictions))\n",
        "print(\"Confusion Matrix:\")\n",
        "print(confusion_matrix(y_vali, vali_predictions))\n",
        "test_predictions = best_model.predict(test_data.drop('id', axis=1))\n",
        "submission_df = pd.DataFrame({'id': test_data['id'], 'Response': test_predictions})\n",
        "submission_df.to_csv('542submission_xgboost_oversampling_random_search.csv', index=False)\n",
        "print(submission_df.head())"
      ]
    }
  ]
}